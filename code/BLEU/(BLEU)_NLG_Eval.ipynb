{
  "nbformat": 4,
  "nbformat_minor": 0,
  "metadata": {
    "colab": {
      "name": "(BLEU) NLG_Eval.ipynb",
      "provenance": [],
      "collapsed_sections": []
    },
    "kernelspec": {
      "display_name": "Python 3",
      "name": "python3"
    }
  },
  "cells": [
    {
      "cell_type": "code",
      "metadata": {
        "id": "rXKXMDlhIV3d"
      },
      "source": [
        "\"\"\"\n",
        "This file used the system build by S. Sharma et al.\n",
        "Title: nlg-eval\n",
        "Author: S. Sharma et al.\n",
        "link:https://github.com/Maluuba/nlg-eval\n",
        "\"\"\"\n",
        "\n",
        "\"\"\"\n",
        "this file is a google  colab notebook, this is the link to the original file:\n",
        "https://colab.research.google.com/drive/1AkU_c8MepHl8ujtlTbvsM1NRzaQydDRz?usp=sharing\n",
        "\"\"\""
      ],
      "execution_count": null,
      "outputs": []
    },
    {
      "cell_type": "code",
      "metadata": {
        "colab": {
          "base_uri": "https://localhost:8080/",
          "height": 731
        },
        "id": "WgZCX15fG3s1",
        "outputId": "8da65c91-4097-4aa3-b76b-6018d529b571"
      },
      "source": [
        "!pip install git+https://github.com/Maluuba/nlg-eval.git@master"
      ],
      "execution_count": null,
      "outputs": [
        {
          "output_type": "stream",
          "text": [
            "Collecting git+https://github.com/Maluuba/nlg-eval.git@master\n",
            "  Cloning https://github.com/Maluuba/nlg-eval.git (to revision master) to /tmp/pip-req-build-2fyujyc4\n",
            "  Running command git clone -q https://github.com/Maluuba/nlg-eval.git /tmp/pip-req-build-2fyujyc4\n",
            "Requirement already satisfied: click>=6.3 in /usr/local/lib/python3.7/dist-packages (from nlg-eval==2.3) (7.1.2)\n",
            "Requirement already satisfied: nltk>=3.1 in /usr/local/lib/python3.7/dist-packages (from nlg-eval==2.3) (3.2.5)\n",
            "Requirement already satisfied: numpy>=1.11.0 in /usr/local/lib/python3.7/dist-packages (from nlg-eval==2.3) (1.19.5)\n",
            "Collecting psutil>=5.6.2\n",
            "\u001b[?25l  Downloading https://files.pythonhosted.org/packages/84/da/f7efdcf012b51506938553dbe302aecc22f3f43abd5cffa8320e8e0588d5/psutil-5.8.0-cp37-cp37m-manylinux2010_x86_64.whl (296kB)\n",
            "\u001b[K     |████████████████████████████████| 296kB 8.8MB/s \n",
            "\u001b[?25hRequirement already satisfied: requests>=2.19 in /usr/local/lib/python3.7/dist-packages (from nlg-eval==2.3) (2.23.0)\n",
            "Requirement already satisfied: six>=1.11 in /usr/local/lib/python3.7/dist-packages (from nlg-eval==2.3) (1.15.0)\n",
            "Requirement already satisfied: Cython>=0.28.5 in /usr/local/lib/python3.7/dist-packages (from nlg-eval==2.3) (0.29.22)\n",
            "Requirement already satisfied: scipy>=0.17.0 in /usr/local/lib/python3.7/dist-packages (from nlg-eval==2.3) (1.4.1)\n",
            "Requirement already satisfied: scikit-learn>=0.17 in /usr/local/lib/python3.7/dist-packages (from nlg-eval==2.3) (0.22.2.post1)\n",
            "Requirement already satisfied: gensim>=3 in /usr/local/lib/python3.7/dist-packages (from nlg-eval==2.3) (3.6.0)\n",
            "Requirement already satisfied: Theano>=0.8.1 in /usr/local/lib/python3.7/dist-packages (from nlg-eval==2.3) (1.0.5)\n",
            "Requirement already satisfied: tqdm>=4.24 in /usr/local/lib/python3.7/dist-packages (from nlg-eval==2.3) (4.41.1)\n",
            "Collecting xdg\n",
            "  Downloading https://files.pythonhosted.org/packages/be/eb/a4669d56ce4934d88a163e4b0d3cbc96606c073100bd6031f7972679877b/xdg-5.0.1-py3-none-any.whl\n",
            "Requirement already satisfied: certifi>=2017.4.17 in /usr/local/lib/python3.7/dist-packages (from requests>=2.19->nlg-eval==2.3) (2020.12.5)\n",
            "Requirement already satisfied: idna<3,>=2.5 in /usr/local/lib/python3.7/dist-packages (from requests>=2.19->nlg-eval==2.3) (2.10)\n",
            "Requirement already satisfied: urllib3!=1.25.0,!=1.25.1,<1.26,>=1.21.1 in /usr/local/lib/python3.7/dist-packages (from requests>=2.19->nlg-eval==2.3) (1.24.3)\n",
            "Requirement already satisfied: chardet<4,>=3.0.2 in /usr/local/lib/python3.7/dist-packages (from requests>=2.19->nlg-eval==2.3) (3.0.4)\n",
            "Requirement already satisfied: joblib>=0.11 in /usr/local/lib/python3.7/dist-packages (from scikit-learn>=0.17->nlg-eval==2.3) (1.0.1)\n",
            "Requirement already satisfied: smart-open>=1.2.1 in /usr/local/lib/python3.7/dist-packages (from gensim>=3->nlg-eval==2.3) (4.2.0)\n",
            "Building wheels for collected packages: nlg-eval\n",
            "  Building wheel for nlg-eval (setup.py) ... \u001b[?25l\u001b[?25hdone\n",
            "  Created wheel for nlg-eval: filename=nlg_eval-2.3-cp37-none-any.whl size=68175149 sha256=51a5498ddf13bcc496fa36540620ee5ef62aa07e50be882c44172707e1d3c7f2\n",
            "  Stored in directory: /tmp/pip-ephem-wheel-cache-occxnrox/wheels/a5/7c/fd/f312beca2adcc3f49cb40570730658dad37bb5709f5d237a56\n",
            "Successfully built nlg-eval\n",
            "Installing collected packages: psutil, xdg, nlg-eval\n",
            "  Found existing installation: psutil 5.4.8\n",
            "    Uninstalling psutil-5.4.8:\n",
            "      Successfully uninstalled psutil-5.4.8\n",
            "Successfully installed nlg-eval-2.3 psutil-5.8.0 xdg-5.0.1\n"
          ],
          "name": "stdout"
        },
        {
          "output_type": "display_data",
          "data": {
            "application/vnd.colab-display-data+json": {
              "pip_warning": {
                "packages": [
                  "psutil"
                ]
              }
            }
          },
          "metadata": {
            "tags": []
          }
        }
      ]
    },
    {
      "cell_type": "code",
      "metadata": {
        "colab": {
          "base_uri": "https://localhost:8080/"
        },
        "id": "VWt0d5UKJmP6",
        "outputId": "5828e893-9521-478f-9298-7c1b71566ce2"
      },
      "source": [
        "from google.colab import drive\n",
        "drive.mount('/content/drive')"
      ],
      "execution_count": null,
      "outputs": [
        {
          "output_type": "stream",
          "text": [
            "Mounted at /content/drive\n"
          ],
          "name": "stdout"
        }
      ]
    },
    {
      "cell_type": "code",
      "metadata": {
        "colab": {
          "base_uri": "https://localhost:8080/"
        },
        "id": "EwtLpKpUHEZG",
        "outputId": "b80ede1b-f51c-4d7e-913a-56aff0b25e23"
      },
      "source": [
        "!nlg-eval --setup {'/content/drive/MyDrive/449data/BLEUcache'}"
      ],
      "execution_count": null,
      "outputs": [
        {
          "output_type": "stream",
          "text": [
            "[nltk_data] Downloading package punkt to /root/nltk_data...\n",
            "[nltk_data]   Unzipping tokenizers/punkt.zip.\n",
            "\u001b[31mInstalling to /content/drive/MyDrive/449data/BLEUcache\u001b[0m\n",
            "\u001b[31mIn case of incomplete downloads, delete the directory and run `nlg-eval --setup /content/drive/MyDrive/449data/BLEUcache' again.\u001b[0m\n",
            "Downloading https://raw.githubusercontent.com/moses-smt/mosesdecoder/b199e654df2a26ea58f234cbb642e89d9c1f269d/scripts/generic/multi-bleu.perl to /usr/local/lib/python3.7/dist-packages/nlgeval/multibleu.\n",
            "Downloading https://raw.githubusercontent.com/robmsmt/glove-gensim/4c2224bccd61627b76c50a5e1d6afd1c82699d22/glove2word2vec.py to /usr/local/lib/python3.7/dist-packages/nlgeval/word2vec.\n",
            "multi-bleu.perl: 100% 1.00/1.00 [00:00<00:00, 464 chunks/s]\n",
            "glove2word2vec.py: 100% 1.00/1.00 [00:00<00:00, 481 chunks/s]\n",
            "WARNING: could not read rc.json in /root/.config/nlgeval, overwriting\n"
          ],
          "name": "stdout"
        }
      ]
    },
    {
      "cell_type": "code",
      "metadata": {
        "colab": {
          "background_save": true,
          "base_uri": "https://localhost:8080/"
        },
        "id": "FZRl2Gm6LLvb",
        "outputId": "6f8d5e56-bd58-49d0-e04b-cabda553e3dc"
      },
      "source": [
        "!nlg-eval --hypothesis=/content/1o3BERTEpoch3preds.txt --references=/content/1o3Ran_E_20_given.txt #BERT"
      ],
      "execution_count": null,
      "outputs": [
        {
          "output_type": "stream",
          "text": [
            "\u001b[32mUsing data from /content/drive/MyDrive/449data/BLEUcache\u001b[0m\n",
            "\u001b[32mIn case of broken downloads, remove the directory and run setup again.\u001b[0m\n",
            "Bleu_1: 0.275011\n",
            "Bleu_2: 0.161315\n",
            "Bleu_3: 0.111190\n",
            "Bleu_4: 0.077873\n",
            "METEOR: 0.171120\n",
            "ROUGE_L: 0.227951\n",
            "\n",
            "Aborted!\n"
          ],
          "name": "stdout"
        }
      ]
    }
  ]
}